{
 "metadata": {
  "name": "",
  "signature": "sha256:326c680c72476007b4bef499af4307affcaada80917dbea0273eb244fbf13bf8"
 },
 "nbformat": 3,
 "nbformat_minor": 0,
 "worksheets": [
  {
   "cells": [
    {
     "cell_type": "code",
     "collapsed": false,
     "input": [
      "%matplotlib inline\n",
      "import numpy as np\n",
      "import matplotlib.pyplot as plt\n",
      "import pandas as pd\n",
      "\n",
      "df = pd.read_csv(\"stations-velib-disponibilites-en-temps-reel.csv\", sep=\";\", dtype = {\"number\": str})\n",
      "df.describe()"
     ],
     "language": "python",
     "metadata": {},
     "outputs": [
      {
       "html": [
        "<div style=\"max-height:1000px;max-width:1500px;overflow:auto;\">\n",
        "<table border=\"1\" class=\"dataframe\">\n",
        "  <thead>\n",
        "    <tr style=\"text-align: right;\">\n",
        "      <th></th>\n",
        "      <th>banking</th>\n",
        "      <th>bonus</th>\n",
        "      <th>bike_stands</th>\n",
        "      <th>available_bike_stands</th>\n",
        "      <th>available_bikes</th>\n",
        "    </tr>\n",
        "  </thead>\n",
        "  <tbody>\n",
        "    <tr>\n",
        "      <th>count</th>\n",
        "      <td>       1235</td>\n",
        "      <td>      1235</td>\n",
        "      <td> 1235.000000</td>\n",
        "      <td> 1235.000000</td>\n",
        "      <td> 1235.000000</td>\n",
        "    </tr>\n",
        "    <tr>\n",
        "      <th>mean</th>\n",
        "      <td>  0.9983806</td>\n",
        "      <td> 0.1093117</td>\n",
        "      <td>   32.642915</td>\n",
        "      <td>   16.533603</td>\n",
        "      <td>   14.778947</td>\n",
        "    </tr>\n",
        "    <tr>\n",
        "      <th>std</th>\n",
        "      <td> 0.04022587</td>\n",
        "      <td> 0.3121563</td>\n",
        "      <td>   13.186836</td>\n",
        "      <td>   12.572105</td>\n",
        "      <td>   12.668337</td>\n",
        "    </tr>\n",
        "    <tr>\n",
        "      <th>min</th>\n",
        "      <td>      False</td>\n",
        "      <td>     False</td>\n",
        "      <td>    8.000000</td>\n",
        "      <td>    0.000000</td>\n",
        "      <td>    0.000000</td>\n",
        "    </tr>\n",
        "    <tr>\n",
        "      <th>25%</th>\n",
        "      <td>          1</td>\n",
        "      <td>         0</td>\n",
        "      <td>   23.000000</td>\n",
        "      <td>    6.000000</td>\n",
        "      <td>    4.000000</td>\n",
        "    </tr>\n",
        "    <tr>\n",
        "      <th>50%</th>\n",
        "      <td>          1</td>\n",
        "      <td>         0</td>\n",
        "      <td>   30.000000</td>\n",
        "      <td>   15.000000</td>\n",
        "      <td>   13.000000</td>\n",
        "    </tr>\n",
        "    <tr>\n",
        "      <th>75%</th>\n",
        "      <td>          1</td>\n",
        "      <td>         0</td>\n",
        "      <td>   40.000000</td>\n",
        "      <td>   23.000000</td>\n",
        "      <td>   23.000000</td>\n",
        "    </tr>\n",
        "    <tr>\n",
        "      <th>max</th>\n",
        "      <td>       True</td>\n",
        "      <td>      True</td>\n",
        "      <td>   72.000000</td>\n",
        "      <td>   67.000000</td>\n",
        "      <td>   68.000000</td>\n",
        "    </tr>\n",
        "  </tbody>\n",
        "</table>\n",
        "</div>"
       ],
       "metadata": {},
       "output_type": "pyout",
       "prompt_number": 8,
       "text": [
        "          banking      bonus  bike_stands  available_bike_stands  \\\n",
        "count        1235       1235  1235.000000            1235.000000   \n",
        "mean    0.9983806  0.1093117    32.642915              16.533603   \n",
        "std    0.04022587  0.3121563    13.186836              12.572105   \n",
        "min         False      False     8.000000               0.000000   \n",
        "25%             1          0    23.000000               6.000000   \n",
        "50%             1          0    30.000000              15.000000   \n",
        "75%             1          0    40.000000              23.000000   \n",
        "max          True       True    72.000000              67.000000   \n",
        "\n",
        "       available_bikes  \n",
        "count      1235.000000  \n",
        "mean         14.778947  \n",
        "std          12.668337  \n",
        "min           0.000000  \n",
        "25%           4.000000  \n",
        "50%          13.000000  \n",
        "75%          23.000000  \n",
        "max          68.000000  "
       ]
      }
     ],
     "prompt_number": 8
    },
    {
     "cell_type": "code",
     "collapsed": false,
     "input": [
      "import datetime\n",
      "df.last_update = pd.to_datetime(df.last_update)\n",
      "print df.columns\n",
      "print df.head()\n",
      "print df.groupby([\"name\"]).aggregate({\"available_bikes\": [sum, len]}).head()"
     ],
     "language": "python",
     "metadata": {},
     "outputs": [
      {
       "output_type": "stream",
       "stream": "stdout",
       "text": [
        "Index([u'number', u'name', u'address', u'position', u'banking', u'bonus', u'status', u'contract_name', u'bike_stands', u'available_bike_stands', u'available_bikes', u'last_update'], dtype='object')\n",
        "  number                          name  \\\n",
        "0  18010           18010 - MARX DORMOY   \n",
        "1  32603  32603 - CALMETTE (LES LILAS)   \n",
        "2  35014    35014 - DE GAULLE (PANTIN)   \n",
        "3  34002     34002 - PERI (SAINT OUEN)   \n",
        "4  15115             15115 - VAUGIRARD   \n",
        "\n",
        "                                             address  \\\n",
        "0                        81 RUE RIQUET - 75018 PARIS   \n",
        "1         1 ALLEE DOCTEUR CALMETTE - 93260 LES LILAS   \n",
        "2  139 AVENUE JEAN LOLIVE / MAIL CHARLES DE GAULL...   \n",
        "3  128 AVENUE GABRIEL PERI / AVENUE DU CAPITAINE ...   \n",
        "4         25-31 BOULEVARD DE VAUGIRARD - 75015 PARIS   \n",
        "\n",
        "                       position banking  bonus  status contract_name  \\\n",
        "0  48.8901339875, 2.36050424484    True  False  CLOSED         Paris   \n",
        "1  48.8811410157, 2.42497424307    True   True  CLOSED         Paris   \n",
        "2  48.8932686647, 2.41271573339    True  False    OPEN         Paris   \n",
        "3  48.9025922416, 2.33051356484    True  False    OPEN         Paris   \n",
        "4  48.8413252598, 2.31829155159    True  False    OPEN         Paris   \n",
        "\n",
        "   bike_stands  available_bike_stands  available_bikes         last_update  \n",
        "0           48                      0                0 2014-11-24 15:10:22  \n",
        "1           25                      0                0 2014-12-15 14:12:42  \n",
        "2           25                     19                6 2014-12-24 14:18:11  \n",
        "3           26                     25                1 2014-12-24 14:18:37  \n",
        "4           48                     39                9 2014-12-24 14:17:49  \n",
        "                                                  available_bikes    \n",
        "                                                              sum len\n",
        "name                                                                 \n",
        "00901 - PORT SOLF\u00c9RINO (STATION MOBILE)                        18   1\n",
        "00902 - LIEU DE LA STATION                                      0   1\n",
        "00903 - QUAI MAURIAC  / PONT DE BERCY                           8   1\n",
        "00904 - PLACE JOFFRE / ECOLE MILITAIRE                          8   1\n",
        "00905 - CONCORDE/BERGES DE SEINE (STATION MOBILE)               3   1"
       ]
      },
      {
       "output_type": "stream",
       "stream": "stdout",
       "text": [
        "\n"
       ]
      }
     ],
     "prompt_number": 10
    },
    {
     "cell_type": "code",
     "collapsed": false,
     "input": [
      "_ = plt.hist(df.available_bike_stands,bins=40, alpha=0.4)\n",
      "_ = plt.hist(df.available_bikes,bins=40, alpha=0.4)\n",
      "plt.legend(\"topright\")"
     ],
     "language": "python",
     "metadata": {},
     "outputs": [
      {
       "metadata": {},
       "output_type": "pyout",
       "prompt_number": 11,
       "text": [
        "<matplotlib.legend.Legend at 0xc3a8cc0>"
       ]
      },
      {
       "metadata": {},
       "output_type": "display_data",
       "png": "[encoded data removed]",
       "text": [
        "<matplotlib.figure.Figure at 0xbfc1cc0>"
       ]
      }
     ],
     "prompt_number": 11
    },
    {
     "cell_type": "code",
     "collapsed": false,
     "input": [
      "n = datetime.datetime.now()\n",
      "print n\n",
      "df[\"delay\"] = df.last_update.apply(lambda x: to_min(n-x))\n",
      "def to_min (x):\n",
      "    return (x.days*24 + x.hours)*60 + x.minutes\n",
      "print df.delay.describe()\n",
      "#_  = plt.hist(df[df.delay < df.delay.min()+60].delay, bins=100)\n",
      "oldie = df.delay.min()+5\n",
      "print \"older than %d min is %d\" % (oldie, (df.delay > oldie).sum())"
     ],
     "language": "python",
     "metadata": {},
     "outputs": [
      {
       "output_type": "stream",
       "stream": "stdout",
       "text": [
        "2014-12-24 16:23:48.750000\n",
        "count      1235.000000\n",
        "mean        556.813765\n",
        "std        7146.805071\n",
        "min         116.000000\n",
        "25%         117.000000\n",
        "50%         119.000000\n",
        "75%         122.000000\n",
        "max      153747.000000\n",
        "Name: delay, dtype: float64"
       ]
      },
      {
       "output_type": "stream",
       "stream": "stdout",
       "text": [
        "\n",
        "median\t119.000000\n",
        "older than 121 min is 387\n"
       ]
      }
     ],
     "prompt_number": 36
    }
   ],
   "metadata": {}
  }
 ]
}
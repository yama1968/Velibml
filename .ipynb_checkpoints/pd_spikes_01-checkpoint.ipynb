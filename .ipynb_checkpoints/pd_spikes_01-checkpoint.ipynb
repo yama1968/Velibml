{
 "metadata": {
  "name": "",
  "signature": "sha256:e2c0e5867d48d5104ad8a1186c1bdbeb6c126c9ad1ced2a8f40b8a57b1efcc00"
 },
 "nbformat": 3,
 "nbformat_minor": 0,
 "worksheets": [
  {
   "cells": [
    {
     "cell_type": "code",
     "collapsed": false,
     "input": [
      "import pandas as pd\n",
      "import numpy as np\n",
      "\n",
      "df = pd.DataFrame({'x': range(5), 'y': [1,2,1,2,3]})\n",
      "df.y == 1\n",
      "print df\n",
      "df.x[df.y==1] = 20\n",
      "print df\n",
      "df.loc[df.y==1,\"x\"] = 30\n",
      "print df\n",
      "df.loc[df.y==1, \"x\"] = df[df.y==1].x-1\n",
      "print df"
     ],
     "language": "python",
     "metadata": {},
     "outputs": [
      {
       "output_type": "stream",
       "stream": "stdout",
       "text": [
        "   x  y\n",
        "0  0  1\n",
        "1  1  2\n",
        "2  2  1\n",
        "3  3  2\n",
        "4  4  3\n",
        "    x  y\n",
        "0  20  1\n",
        "1   1  2\n",
        "2  20  1\n",
        "3   3  2\n",
        "4   4  3\n",
        "    x  y\n",
        "0  30  1\n",
        "1   1  2\n",
        "2  30  1\n",
        "3   3  2\n",
        "4   4  3\n",
        "    x  y\n",
        "0  29  1\n",
        "1   1  2\n",
        "2  29  1\n",
        "3   3  2\n",
        "4   4  3\n"
       ]
      }
     ],
     "prompt_number": 12
    }
   ],
   "metadata": {}
  }
 ]
}